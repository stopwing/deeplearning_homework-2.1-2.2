{
 "cells": [
  {
   "cell_type": "markdown",
   "metadata": {},
   "source": [
    "## 准备数据"
   ]
  },
  {
   "cell_type": "code",
   "execution_count": 9,
   "metadata": {},
   "outputs": [],
   "source": [
    "import os\n",
    "import numpy as np\n",
    "import tensorflow as tf\n",
    "from tensorflow import keras\n",
    "from tensorflow.keras import layers, optimizers, datasets\n",
    "\n",
    "os.environ['TF_CPP_MIN_LOG_LEVEL'] = '2'  # or any {'0', '1', '2'}\n",
    "\n",
    "def mnist_dataset():\n",
    "    (x, y), (x_test, y_test) = datasets.mnist.load_data()\n",
    "    #normalize\n",
    "    x = x/255.0\n",
    "    x_test = x_test/255.0\n",
    "    \n",
    "    return (x, y), (x_test, y_test)"
   ]
  },
  {
   "cell_type": "code",
   "execution_count": 10,
   "metadata": {},
   "outputs": [
    {
     "name": "stdout",
     "output_type": "stream",
     "text": [
      "[(1, 'a'), (2, 'b'), (3, 'c'), (4, 'd')]\n"
     ]
    }
   ],
   "source": [
    "print(list(zip([1, 2, 3, 4], ['a', 'b', 'c', 'd'])))"
   ]
  },
  {
   "cell_type": "markdown",
   "metadata": {},
   "source": [
    "## 建立模型"
   ]
  },
  {
   "cell_type": "code",
   "execution_count": null,
   "metadata": {},
   "outputs": [],
   "source": [
    "class myModel:\n",
    "    def __init__(self):\n",
    "        ####################\n",
    "        '''声明模型对应的参数'''\n",
    "        ####################\n",
    "        input_size = 784  \n",
    "        hidden_size = 128\n",
    "        output_size = 10\n",
    "        self.W1 = tf.Variable(tf.random.normal([input_size, hidden_size], stddev=0.1))\n",
    "        self.b1 = tf.Variable(tf.zeros([hidden_size]))\n",
    "        self.W2 = tf.Variable(tf.random.normal([hidden_size, output_size], stddev=0.1))\n",
    "        self.b2 = tf.Variable(tf.zeros([output_size]))\n",
    "        \n",
    "    def __call__(self, x):\n",
    "        ####################\n",
    "        '''实现模型函数体，返回未归一化的logits'''\n",
    "        ####################\n",
    "        x = tf.reshape(x, [-1, 784])\n",
    "        hidden = tf.matmul(x, self.W1) + self.b1\n",
    "        hidden = tf.nn.relu(hidden)\n",
    "        logits = tf.matmul(hidden, self.W2) + self.b2\n",
    "        return logits\n",
    "        \n",
    "model = myModel()\n",
    "\n",
    "optimizer = optimizers.Adam()"
   ]
  },
  {
   "cell_type": "markdown",
   "metadata": {},
   "source": [
    "## 计算 loss"
   ]
  },
  {
   "cell_type": "code",
   "execution_count": 25,
   "metadata": {},
   "outputs": [],
   "source": [
    "@tf.function\n",
    "def compute_loss(logits, labels):\n",
    "    return tf.reduce_mean(\n",
    "        tf.nn.sparse_softmax_cross_entropy_with_logits(\n",
    "            logits=logits, labels=labels))\n",
    "\n",
    "@tf.function\n",
    "def compute_accuracy(logits, labels):\n",
    "    predictions = tf.argmax(logits, axis=1)\n",
    "    return tf.reduce_mean(tf.cast(tf.equal(predictions, labels), tf.float32))\n",
    "\n",
    "@tf.function\n",
    "def train_one_step(model, optimizer, x, y):\n",
    "    with tf.GradientTape() as tape:\n",
    "        logits = model(x)\n",
    "        loss = compute_loss(logits, y)\n",
    "\n",
    "    # compute gradient\n",
    "    trainable_vars = [model.W1, model.W2, model.b1, model.b2]\n",
    "    grads = tape.gradient(loss, trainable_vars)\n",
    "    for g, v in zip(grads, trainable_vars):\n",
    "        v.assign_sub(0.01*g)\n",
    "\n",
    "    accuracy = compute_accuracy(logits, y)\n",
    "\n",
    "    # loss and accuracy is scalar tensor\n",
    "    return loss, accuracy\n",
    "\n",
    "@tf.function\n",
    "def test(model, x, y):\n",
    "    logits = model(x)\n",
    "    loss = compute_loss(logits, y)\n",
    "    accuracy = compute_accuracy(logits, y)\n",
    "    return loss, accuracy"
   ]
  },
  {
   "cell_type": "markdown",
   "metadata": {},
   "source": [
    "## 实际训练"
   ]
  },
  {
   "cell_type": "code",
   "execution_count": 32,
   "metadata": {},
   "outputs": [
    {
     "name": "stdout",
     "output_type": "stream",
     "text": [
      "epoch 0 : loss 2.5062385 ; accuracy 0.10035\n",
      "epoch 1 : loss 2.4768956 ; accuracy 0.102683336\n",
      "epoch 2 : loss 2.4500592 ; accuracy 0.10425\n",
      "epoch 3 : loss 2.4253204 ; accuracy 0.106633335\n",
      "epoch 4 : loss 2.4023545 ; accuracy 0.10865\n",
      "epoch 5 : loss 2.3809042 ; accuracy 0.11156667\n",
      "epoch 6 : loss 2.360763 ; accuracy 0.113966666\n",
      "epoch 7 : loss 2.3417637 ; accuracy 0.117\n",
      "epoch 8 : loss 2.323771 ; accuracy 0.11985\n",
      "epoch 9 : loss 2.306669 ; accuracy 0.12358333\n",
      "epoch 10 : loss 2.2903597 ; accuracy 0.1274\n",
      "epoch 11 : loss 2.2747588 ; accuracy 0.13196667\n",
      "epoch 12 : loss 2.2597957 ; accuracy 0.13705\n",
      "epoch 13 : loss 2.245407 ; accuracy 0.1419\n",
      "epoch 14 : loss 2.2315383 ; accuracy 0.1468\n",
      "epoch 15 : loss 2.2181432 ; accuracy 0.15266667\n",
      "epoch 16 : loss 2.2051828 ; accuracy 0.1584\n",
      "epoch 17 : loss 2.1926188 ; accuracy 0.16478333\n",
      "epoch 18 : loss 2.180419 ; accuracy 0.17075\n",
      "epoch 19 : loss 2.1685565 ; accuracy 0.17696667\n",
      "epoch 20 : loss 2.1570034 ; accuracy 0.18351667\n",
      "epoch 21 : loss 2.1457415 ; accuracy 0.19121666\n",
      "epoch 22 : loss 2.1347487 ; accuracy 0.19843334\n",
      "epoch 23 : loss 2.1240046 ; accuracy 0.2061\n",
      "epoch 24 : loss 2.113493 ; accuracy 0.2137\n",
      "epoch 25 : loss 2.1031995 ; accuracy 0.22081667\n",
      "epoch 26 : loss 2.0931087 ; accuracy 0.22793333\n",
      "epoch 27 : loss 2.083205 ; accuracy 0.2356\n",
      "epoch 28 : loss 2.0734775 ; accuracy 0.24326667\n",
      "epoch 29 : loss 2.0639157 ; accuracy 0.2506\n",
      "epoch 30 : loss 2.0545106 ; accuracy 0.25796667\n",
      "epoch 31 : loss 2.0452552 ; accuracy 0.26631665\n",
      "epoch 32 : loss 2.0361395 ; accuracy 0.27368334\n",
      "epoch 33 : loss 2.027156 ; accuracy 0.2809\n",
      "epoch 34 : loss 2.0182967 ; accuracy 0.2886\n",
      "epoch 35 : loss 2.009556 ; accuracy 0.29556668\n",
      "epoch 36 : loss 2.0009277 ; accuracy 0.30275\n",
      "epoch 37 : loss 1.9924073 ; accuracy 0.30983335\n",
      "epoch 38 : loss 1.9839885 ; accuracy 0.31673333\n",
      "epoch 39 : loss 1.9756664 ; accuracy 0.32396665\n",
      "epoch 40 : loss 1.9674377 ; accuracy 0.33111668\n",
      "epoch 41 : loss 1.959298 ; accuracy 0.33811668\n",
      "epoch 42 : loss 1.9512434 ; accuracy 0.3451\n",
      "epoch 43 : loss 1.9432698 ; accuracy 0.3516\n",
      "epoch 44 : loss 1.9353743 ; accuracy 0.35841668\n",
      "epoch 45 : loss 1.9275548 ; accuracy 0.36463332\n",
      "epoch 46 : loss 1.9198086 ; accuracy 0.37175\n",
      "epoch 47 : loss 1.9121325 ; accuracy 0.37835\n",
      "epoch 48 : loss 1.9045243 ; accuracy 0.38531667\n",
      "epoch 49 : loss 1.8969812 ; accuracy 0.39126667\n",
      "test loss 1.8779312 ; accuracy 0.4047\n"
     ]
    }
   ],
   "source": [
    "train_data, test_data = mnist_dataset()\n",
    "for epoch in range(50):\n",
    "    loss, accuracy = train_one_step(model, optimizer, \n",
    "                                    tf.constant(train_data[0], dtype=tf.float32), \n",
    "                                    tf.constant(train_data[1], dtype=tf.int64))\n",
    "    print('epoch', epoch, ': loss', loss.numpy(), '; accuracy', accuracy.numpy())\n",
    "loss, accuracy = test(model, \n",
    "                      tf.constant(test_data[0], dtype=tf.float32), \n",
    "                      tf.constant(test_data[1], dtype=tf.int64))\n",
    "\n",
    "print('test loss', loss.numpy(), '; accuracy', accuracy.numpy())"
   ]
  }
 ],
 "metadata": {
  "kernelspec": {
   "display_name": "Python 3",
   "language": "python",
   "name": "python3"
  },
  "language_info": {
   "codemirror_mode": {
    "name": "ipython",
    "version": 3
   },
   "file_extension": ".py",
   "mimetype": "text/x-python",
   "name": "python",
   "nbconvert_exporter": "python",
   "pygments_lexer": "ipython3",
   "version": "3.11.11"
  }
 },
 "nbformat": 4,
 "nbformat_minor": 2
}
